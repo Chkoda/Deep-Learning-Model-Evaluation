{
 "cells": [
  {
   "cell_type": "markdown",
   "metadata": {},
   "source": [
    "# 3 Layer Neural Network"
   ]
  },
  {
   "cell_type": "code",
   "execution_count": 1,
   "metadata": {},
   "outputs": [
    {
     "name": "stderr",
     "output_type": "stream",
     "text": [
      "Using TensorFlow backend.\n"
     ]
    }
   ],
   "source": [
    "import keras\n",
    "from keras.models import load_model\n",
    "from keras.models import model_from_json\n",
    "from sklearn.metrics import roc_curve, auc\n",
    "import numpy as np\n",
    "import os\n",
    "import h5py\n",
    "import yaml\n",
    "import pandas as pd\n",
    "import matplotlib.pyplot as plt"
   ]
  },
  {
   "cell_type": "markdown",
   "metadata": {},
   "source": [
    "## Load Model"
   ]
  },
  {
   "cell_type": "code",
   "execution_count": 2,
   "metadata": {},
   "outputs": [
    {
     "name": "stdout",
     "output_type": "stream",
     "text": [
      "Loading configuration from train_config_threelayer.yml\n"
     ]
    },
    {
     "data": {
      "text/plain": [
       "{'Inputs': ['j_zlogz',\n",
       "  'j_c1_b0_mmdt',\n",
       "  'j_c1_b1_mmdt',\n",
       "  'j_c1_b2_mmdt',\n",
       "  'j_c2_b1_mmdt',\n",
       "  'j_c2_b2_mmdt',\n",
       "  'j_d2_b1_mmdt',\n",
       "  'j_d2_b2_mmdt',\n",
       "  'j_d2_a1_b1_mmdt',\n",
       "  'j_d2_a1_b2_mmdt',\n",
       "  'j_m2_b1_mmdt',\n",
       "  'j_m2_b2_mmdt',\n",
       "  'j_n2_b1_mmdt',\n",
       "  'j_n2_b2_mmdt',\n",
       "  'j_mass_mmdt',\n",
       "  'j_multiplicity'],\n",
       " 'Labels': ['j_g', 'j_q', 'j_w', 'j_z', 'j_t'],\n",
       " 'KerasModel': 'three_layer_model',\n",
       " 'KerasModelRetrain': 'three_layer_model_constraint',\n",
       " 'KerasLoss': 'categorical_crossentropy',\n",
       " 'L1Reg': 0.0001,\n",
       " 'NormalizeInputs': 1,\n",
       " 'InputType': 'Dense'}"
      ]
     },
     "execution_count": 2,
     "metadata": {},
     "output_type": "execute_result"
    }
   ],
   "source": [
    "from collections import namedtuple\n",
    "Option = namedtuple(\"MyStruct\", \"inputModel inputFile tree config jsonModel\")\n",
    "\n",
    "options = Option(\n",
    "    inputModel = 'KERAS_3layer_weights.h5',\n",
    "    inputFile = '../processed-pythia82-lhc13-all-pt1-50k-r1_h022_e0175_t220_nonu_truth.z',\n",
    "    tree = 't_allpar_new',\n",
    "    config = 'train_config_threelayer.yml',\n",
    "    jsonModel = 'KERAS_3layer.json'\n",
    ")\n",
    "\n",
    "print(\"Loading configuration from\", options.config)\n",
    "config = open(options.config, 'r')\n",
    "yamlConfig =  yaml.load(config, Loader=yaml.FullLoader)\n",
    "yamlConfig"
   ]
  },
  {
   "cell_type": "code",
   "execution_count": 3,
   "metadata": {},
   "outputs": [
    {
     "name": "stdout",
     "output_type": "stream",
     "text": [
      "Model: \"model_1\"\n",
      "_________________________________________________________________\n",
      "Layer (type)                 Output Shape              Param #   \n",
      "=================================================================\n",
      "input_1 (InputLayer)         (None, 16)                0         \n",
      "_________________________________________________________________\n",
      "fc1_relu (Dense)             (None, 64)                1088      \n",
      "_________________________________________________________________\n",
      "fc2_relu (Dense)             (None, 32)                2080      \n",
      "_________________________________________________________________\n",
      "fc3_relu (Dense)             (None, 32)                1056      \n",
      "_________________________________________________________________\n",
      "output_softmax (Dense)       (None, 5)                 165       \n",
      "=================================================================\n",
      "Total params: 4,389\n",
      "Trainable params: 4,389\n",
      "Non-trainable params: 0\n",
      "_________________________________________________________________\n"
     ]
    }
   ],
   "source": [
    "json_file = open(options.jsonModel, 'r')\n",
    "model = model_from_json(json_file.read())\n",
    "json_file.close()\n",
    "\n",
    "model.load_weights(options.inputModel)\n",
    "model.summary()"
   ]
  },
  {
   "cell_type": "markdown",
   "metadata": {},
   "source": [
    "## Load Test Data"
   ]
  },
  {
   "cell_type": "code",
   "execution_count": 6,
   "metadata": {},
   "outputs": [],
   "source": [
    "def get_features(options, yamlConfig, test_size):\n",
    "    from sklearn.model_selection import train_test_split\n",
    "    from sklearn import preprocessing\n",
    "    \n",
    "    # To use one data file:\n",
    "    h5File = h5py.File(options.inputFile, 'r')\n",
    "    treeArray = h5File[options.tree][()]\n",
    "\n",
    "    print(treeArray.shape)\n",
    "    #print(treeArray.dtype.names)\n",
    "    \n",
    "    # List of features to use\n",
    "    features = yamlConfig['Inputs']\n",
    "    \n",
    "    # List of labels to use\n",
    "    labels = yamlConfig['Labels']\n",
    "\n",
    "    # Convert to dataframe\n",
    "    features_labels_df = pd.DataFrame(treeArray,columns=list(set(features+labels)))\n",
    "    features_labels_df = features_labels_df.drop_duplicates()\n",
    "\n",
    "    features_df = features_labels_df[features]\n",
    "    labels_df = features_labels_df[labels]\n",
    "    \n",
    "    print(features_df.head())\n",
    "    print(labels_df.head())\n",
    "    \n",
    "    if 'Conv' in yamlConfig['InputType']:\n",
    "        labels_df = labels_df.drop_duplicates()\n",
    "        \n",
    "    # Convert to numpy array \n",
    "    features_val = features_df.values\n",
    "    labels_val = labels_df.values     \n",
    "    print(labels_val.shape)\n",
    "\n",
    "    if 'j_index' in features:\n",
    "        features_val = features_val[:,:-1] # drop the j_index feature\n",
    "    if 'j_index' in labels:\n",
    "        labels_val = labels_val[:,:-1] # drop the j_index label\n",
    "        print(labels_val.shape)\n",
    "\n",
    "    if yamlConfig['InputType']=='Conv1D':\n",
    "        features_2dval = np.zeros((len(labels_df), yamlConfig['MaxParticles'], len(features)-1))\n",
    "        for i in range(0, len(labels_df)):\n",
    "            features_df_i = features_df[features_df['j_index']==labels_df['j_index'].iloc[i]]\n",
    "            index_values = features_df_i.index.values\n",
    "            #features_val_i = features_val[index_values[0]:index_values[-1]+1,:-1] # drop the last feature j_index\n",
    "            features_val_i = features_val[np.array(index_values),:]\n",
    "            nParticles = len(features_val_i)\n",
    "            #print(\"before\", features_val_i[:,0])\n",
    "            features_val_i = features_val_i[features_val_i[:,0].argsort()[::-1]] # sort descending by first value (ptrel, usually)\n",
    "            #print(\"after\", features_val_i[:,0])\n",
    "            if nParticles>yamlConfig['MaxParticles']:\n",
    "                features_val_i =  features_val_i[0:yamlConfig['MaxParticles'],:]\n",
    "            else:        \n",
    "                features_val_i = np.concatenate([features_val_i, np.zeros((yamlConfig['MaxParticles']-nParticles, len(features)-1))])\n",
    "            features_2dval[i, :, :] = features_val_i\n",
    "\n",
    "        features_val = features_2dval\n",
    "\n",
    "    elif yamlConfig['InputType']=='Conv2D':\n",
    "        features_2dval = np.zeros((len(labels_df), yamlConfig['BinsX'], yamlConfig['BinsY'], 1))\n",
    "        for i in range(0, len(labels_df)):\n",
    "            features_df_i = features_df[features_df['j_index']==labels_df['j_index'].iloc[i]]\n",
    "            index_values = features_df_i.index.values\n",
    "            \n",
    "            xbins = np.linspace(yamlConfig['MinX'],yamlConfig['MaxX'],yamlConfig['BinsX']+1)\n",
    "            ybins = np.linspace(yamlConfig['MinY'],yamlConfig['MaxY'],yamlConfig['BinsY']+1)\n",
    "\n",
    "            x = features_df_i[features[0]]           \n",
    "            y = features_df_i[features[1]]\n",
    "            w = features_df_i[features[2]]\n",
    "\n",
    "            hist, xedges, yedges = np.histogram2d(x, y, weights=w, bins=(xbins,ybins))\n",
    "\n",
    "            for ix in range(0,yamlConfig['BinsX']):\n",
    "                for iy in range(0,yamlConfig['BinsY']):\n",
    "                    features_2dval[i,ix,iy,0] = hist[ix,iy]\n",
    "        features_val = features_2dval\n",
    "\n",
    "    X_train_val, X_test, y_train_val, y_test = train_test_split(features_val, labels_val, test_size=test_size, random_state=42)\n",
    "    \n",
    "    #Normalize inputs\n",
    "    if yamlConfig['NormalizeInputs'] and yamlConfig['InputType']!='Conv1D' and yamlConfig['InputType']!='Conv2D':\n",
    "        scaler = preprocessing.StandardScaler().fit(X_train_val)\n",
    "        X_train_val = scaler.transform(X_train_val)\n",
    "        X_test = scaler.transform(X_test)\n",
    "\n",
    "    #Normalize inputs\n",
    "    if yamlConfig['NormalizeInputs'] and yamlConfig['InputType']!='Conv1D' and yamlConfig['InputType']!='Conv2D' and yamlConfig['KerasLoss']=='squared_hinge':\n",
    "        scaler = preprocessing.MinMaxScaler().fit(X_train_val)\n",
    "        X_train_val = scaler.transform(X_train_val)\n",
    "        X_test = scaler.transform(X_test)\n",
    "        y_train_val = y_train_val * 2 - 1\n",
    "        y_test = y_test * 2 - 1\n",
    "        \n",
    "    #Normalize conv inputs\n",
    "    if yamlConfig['NormalizeInputs'] and yamlConfig['InputType']=='Conv1D':\n",
    "        reshape_X_train_val = X_train_val.reshape(X_train_val.shape[0]*X_train_val.shape[1],X_train_val.shape[2])\n",
    "        scaler = preprocessing.StandardScaler().fit(reshape_X_train_val)\n",
    "        for p in range(X_train_val.shape[1]):\n",
    "            X_train_val[:,p,:] = scaler.transform(X_train_val[:,p,:])\n",
    "            X_test[:,p,:] = scaler.transform(X_test[:,p,:])    \n",
    "\n",
    "    if 'j_index' in labels:\n",
    "        labels = labels[:-1]\n",
    "\n",
    "    return X_train_val, X_test, y_train_val, y_test, labels"
   ]
  },
  {
   "cell_type": "code",
   "execution_count": 7,
   "metadata": {},
   "outputs": [
    {
     "name": "stdout",
     "output_type": "stream",
     "text": [
      "(986806,)\n",
      "    j_zlogz  j_c1_b0_mmdt  j_c1_b1_mmdt  j_c1_b2_mmdt  j_c2_b1_mmdt  \\\n",
      "0 -2.901162      0.462566      0.039364      0.005629      0.035541   \n",
      "1 -3.112807      0.460751      0.049826      0.008610      0.039287   \n",
      "2 -3.363088      0.474168      0.060443      0.011360      0.094000   \n",
      "3 -2.287620      0.383430      0.008700      0.000292      0.017118   \n",
      "4 -2.878532      0.453209      0.047442      0.007715      0.036979   \n",
      "\n",
      "   j_c2_b2_mmdt  j_d2_b1_mmdt  j_d2_b2_mmdt  j_d2_a1_b1_mmdt  j_d2_a1_b2_mmdt  \\\n",
      "0      0.001542      0.902895      0.274003         0.902895         0.130406   \n",
      "1      0.002654      0.788490      0.308283         0.788490         0.122073   \n",
      "2      0.021238      1.555191      1.869579         1.555191         0.283637   \n",
      "3      0.000764      1.967673      2.612099         1.967673         0.259244   \n",
      "4      0.002523      0.779445      0.326996         0.779445         0.122829   \n",
      "\n",
      "   j_m2_b1_mmdt  j_m2_b2_mmdt  j_n2_b1_mmdt  j_n2_b2_mmdt  j_mass_mmdt  \\\n",
      "0      0.069127      0.015636      0.215783      0.051372    79.503227   \n",
      "1      0.066843      0.021354      0.200235      0.061458    81.145767   \n",
      "2      0.126817      0.075293      0.380907      0.272902    97.876595   \n",
      "3      0.109983      0.051206      0.369561      0.210723    17.177235   \n",
      "4      0.066729      0.021665      0.200641      0.062631    92.293953   \n",
      "\n",
      "   j_multiplicity  \n",
      "0            33.0  \n",
      "1            63.0  \n",
      "2            60.0  \n",
      "3            38.0  \n",
      "4            50.0  \n",
      "   j_g  j_q  j_w  j_z  j_t\n",
      "0    0    0    1    0    0\n",
      "1    0    0    0    0    1\n",
      "2    0    0    0    0    1\n",
      "3    0    1    0    0    0\n",
      "4    0    0    0    0    1\n",
      "(986806, 5)\n"
     ]
    }
   ],
   "source": [
    "X_train_val, X_test, y_train_val, y_test, labels  = get_features(options, yamlConfig, test_size=0.99)"
   ]
  },
  {
   "cell_type": "code",
   "execution_count": 8,
   "metadata": {},
   "outputs": [
    {
     "data": {
      "text/plain": [
       "(976938, 16)"
      ]
     },
     "execution_count": 8,
     "metadata": {},
     "output_type": "execute_result"
    }
   ],
   "source": [
    "X_test.shape"
   ]
  },
  {
   "cell_type": "code",
   "execution_count": 9,
   "metadata": {},
   "outputs": [
    {
     "data": {
      "text/plain": [
       "(976938, 5)"
      ]
     },
     "execution_count": 9,
     "metadata": {},
     "output_type": "execute_result"
    }
   ],
   "source": [
    "y_test.shape"
   ]
  },
  {
   "cell_type": "markdown",
   "metadata": {},
   "source": [
    "## Evaluate"
   ]
  },
  {
   "cell_type": "code",
   "execution_count": 12,
   "metadata": {},
   "outputs": [],
   "source": [
    "def makeRoc(features_val, labels, labels_val, model, outputDir):\n",
    "    if 'j_index' in labels: labels.remove('j_index')\n",
    "    print(features_val)\n",
    "    predict_test = model.predict(features_val)\n",
    "    df = pd.DataFrame()\n",
    "    fpr = {}\n",
    "    tpr = {}\n",
    "    auc1 = {}\n",
    "    plt.figure()       \n",
    "    for i, label in enumerate(labels):\n",
    "        df[label] = labels_val[:,i]\n",
    "        df[label + '_pred'] = predict_test[:,i]\n",
    "        fpr[label], tpr[label], threshold = roc_curve(df[label],df[label+'_pred'])\n",
    "        auc1[label] = auc(fpr[label], tpr[label])\n",
    "        plt.plot(tpr[label],fpr[label],label='%s tagger, AUC = %.1f%%'%(label.replace('j_',''),auc1[label]*100.))\n",
    "    plt.plot([0, 1], [0, 1], lw=1, color='navy', linestyle='--')\n",
    "    print(df.head())\n",
    "    plt.semilogy()\n",
    "    plt.xlabel(\"Signal Efficiency\")\n",
    "    plt.ylabel(\"Background Efficiency\")\n",
    "    plt.xlim([-0.05, 1.05])\n",
    "    plt.ylim(0.001,1.05)\n",
    "    plt.grid(True)\n",
    "    plt.legend(loc='lower right')\n",
    "    plt.figtext(0.25, 0.90,'3layerNN ROC Curve',fontweight='bold', wrap=True, horizontalalignment='right', fontsize=14)\n",
    "    #plt.figtext(0.35, 0.90,'preliminary', style='italic', wrap=True, horizontalalignment='center', fontsize=14) \n",
    "    plt.savefig('%s/ROC.pdf'%(outputDir))\n",
    "    return predict_test"
   ]
  },
  {
   "cell_type": "code",
   "execution_count": 13,
   "metadata": {},
   "outputs": [
    {
     "name": "stdout",
     "output_type": "stream",
     "text": [
      "[[-0.7010806   0.5865037   2.2595448  ... -0.3866481   1.6901667\n",
      "   0.6479824 ]\n",
      " [ 0.12513776 -0.12000436  0.09879496 ... -0.3336711   0.15121005\n",
      "  -0.12159692]\n",
      " [-0.03118113  0.18972372  0.03069793 ...  0.51290625  0.3796252\n",
      "   0.88847595]\n",
      " ...\n",
      " [ 0.94809854 -0.9193311  -0.74726814 ... -0.9567717  -0.81807095\n",
      "  -0.36209047]\n",
      " [-0.8330147   0.68536603  2.1886683  ...  0.57493776  2.012609\n",
      "   0.9846734 ]\n",
      " [ 0.02661487  0.25315276 -0.38217807 ... -0.24671917 -0.23949893\n",
      "  -0.07349822]]\n",
      "   j_g      j_g_pred  j_q      j_q_pred  j_w      j_w_pred  j_z      j_z_pred  \\\n",
      "0    0  2.228905e-29    0  1.725206e-09    0  2.722220e-11    0  2.068634e-34   \n",
      "1    0  2.000103e-02    0  8.180232e-01    1  4.919600e-02    0  1.093284e-01   \n",
      "2    1  1.514554e-02    0  7.214864e-01    0  5.610134e-02    0  2.061873e-01   \n",
      "3    1  1.254634e-02    0  6.370726e-01    0  2.863303e-02    0  2.307954e-02   \n",
      "4    0  3.199273e-02    0  9.019805e-01    1  2.330118e-02    0  4.260311e-02   \n",
      "\n",
      "   j_t  j_t_pred  \n",
      "0    1  1.000000  \n",
      "1    0  0.003451  \n",
      "2    0  0.001079  \n",
      "3    0  0.298669  \n",
      "4    0  0.000122  \n"
     ]
    },
    {
     "data": {
      "image/png": "[encoded data removed]",
      "text/plain": [
       "<Figure size 432x288 with 1 Axes>"
      ]
     },
     "metadata": {
      "needs_background": "light"
     },
     "output_type": "display_data"
    }
   ],
   "source": [
    "y_pred = makeRoc(X_test, labels, y_test, model, os.curdir)"
   ]
  },
  {
   "cell_type": "code",
   "execution_count": null,
   "metadata": {},
   "outputs": [],
   "source": []
  }
 ],
 "metadata": {
  "kernelspec": {
   "display_name": "Python 3",
   "language": "python",
   "name": "python3"
  },
  "language_info": {
   "codemirror_mode": {
    "name": "ipython",
    "version": 3
   },
   "file_extension": ".py",
   "mimetype": "text/x-python",
   "name": "python",
   "nbconvert_exporter": "python",
   "pygments_lexer": "ipython3",
   "version": "3.7.4"
  }
 },
 "nbformat": 4,
 "nbformat_minor": 2
}
