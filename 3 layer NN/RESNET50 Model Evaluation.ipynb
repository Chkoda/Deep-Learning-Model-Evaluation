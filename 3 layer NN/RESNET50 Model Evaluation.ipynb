{
 "cells": [
  {
   "cell_type": "markdown",
   "metadata": {},
   "source": [
    "## RESNET-50\n",
    "\n",
    "#### Load Model"
   ]
  },
  {
   "cell_type": "code",
   "execution_count": 1,
   "metadata": {},
   "outputs": [
    {
     "name": "stdout",
     "output_type": "stream",
     "text": [
      "WARNING:tensorflow:From C:\\Users\\Alexander\\Anaconda3\\envs\\PHYS434\\lib\\site-packages\\tensorflow_core\\python\\compat\\v2_compat.py:88: disable_resource_variables (from tensorflow.python.ops.variable_scope) is deprecated and will be removed in a future version.\n",
      "Instructions for updating:\n",
      "non-resource variables are not supported in the long term\n"
     ]
    }
   ],
   "source": [
    "import tensorflow.compat.v1 as tf\n",
    "import os\n",
    "tf.disable_v2_behavior()\n",
    "\n",
    "from tensorflow.python.platform import gfile\n",
    "def load_graph(sess, model_file_name, node_mapping={}):\n",
    "    with gfile.GFile(model_file_name, 'rb') as f:\n",
    "        graph_def = tf.GraphDef()\n",
    "        graph_def.ParseFromString(f.read())\n",
    "        tf.import_graph_def(graph_def, node_mapping)"
   ]
  },
  {
   "cell_type": "code",
   "execution_count": 2,
   "metadata": {},
   "outputs": [],
   "source": [
    "file_name = 'weights-floatingpoint-224x224-fixval-best/constantgraph.pb'\n",
    "\n",
    "with tf.Session() as sess:\n",
    "    # Create a placeholder for the input\n",
    "    input_node = tf.placeholder(tf.float32, shape = [None, 224, 224, 3], name='Placeholder')\n",
    "    graph_def = load_graph(sess=sess,\n",
    "                           model_file_name=file_name,\n",
    "                           node_mapping={'Placeholder': input_node})\n",
    "# Get the node for output\n",
    "output_node = tf.get_default_graph().get_tensor_by_name(\"import/classifier/model_1/classifier_output/Softmax:0\")"
   ]
  },
  {
   "cell_type": "markdown",
   "metadata": {},
   "source": [
    "#### Inference"
   ]
  },
  {
   "cell_type": "code",
   "execution_count": 3,
   "metadata": {},
   "outputs": [],
   "source": [
    "import numpy as np\n",
    "import pandas as pd\n",
    "import os\n",
    "import tables"
   ]
  },
  {
   "cell_type": "code",
   "execution_count": 4,
   "metadata": {},
   "outputs": [],
   "source": [
    "def normalize_and_rgb(images): \n",
    "    import numpy as np\n",
    "    #normalize image to 0-255 per image.\n",
    "    image_sum = 1/np.sum(np.sum(images,axis=1),axis=-1)\n",
    "    given_axis = 0\n",
    "    # Create an array which would be used to reshape 1D array, b to have \n",
    "    # singleton dimensions except for the given axis where we would put -1 \n",
    "    # signifying to use the entire length of elements along that axis  \n",
    "    dim_array = np.ones((1,images.ndim),int).ravel()\n",
    "    dim_array[given_axis] = -1\n",
    "    # Reshape b with dim_array and perform elementwise multiplication with \n",
    "    # broadcasting along the singleton dimensions for the final output\n",
    "    image_sum_reshaped = image_sum.reshape(dim_array)\n",
    "    images = images*image_sum_reshaped*255\n",
    "\n",
    "    # make it rgb by duplicating 3 channels.\n",
    "    images = np.stack([images, images, images],axis=-1)\n",
    "    \n",
    "    return images"
   ]
  },
  {
   "cell_type": "code",
   "execution_count": 5,
   "metadata": {},
   "outputs": [],
   "source": [
    "def count_events(train_files):\n",
    "    import tables\n",
    "    n_events = 0\n",
    "    for train_file in train_files:\n",
    "        f = tables.open_file(train_file, 'r')\n",
    "        n_events += f.root.label.shape[0]\n",
    "        f.close()\n",
    "    return n_events"
   ]
  },
  {
   "cell_type": "code",
   "execution_count": 6,
   "metadata": {},
   "outputs": [],
   "source": [
    "def chunks(files, chunksize, max_q_size=4, shuffle=True): \n",
    "    \"\"\"Yield successive n-sized chunks from a and b.\"\"\" \n",
    "    import tables\n",
    "    import numpy as np\n",
    "    for train_file in files: \n",
    "        f = tables.open_file(train_file, 'r') \n",
    "        nrows = f.root.label.nrows\n",
    "        for istart in range(0,nrows,max_q_size*chunksize):  \n",
    "            a = np.array(f.root.img_pt[istart:istart+max_q_size*chunksize]) # Images \n",
    "            b = np.array(f.root.label[istart:istart+max_q_size*chunksize]) # Labels \n",
    "            if shuffle: \n",
    "                c = np.c_[a.reshape(len(a), -1), b.reshape(len(b), -1)] # shuffle within queue size\n",
    "                np.random.shuffle(c)\n",
    "                test_images = c[:, :a.size//len(a)].reshape(a.shape)\n",
    "                test_labels = c[:, a.size//len(a):].reshape(b.shape)\n",
    "            else:\n",
    "                test_images = a\n",
    "                test_labels = b\n",
    "            for jstart in range(0,len(test_labels),chunksize): \n",
    "                yield normalize_and_rgb(test_images[jstart:jstart+chunksize].copy()),test_labels[jstart:jstart+chunksize].copy(), len(test_labels[jstart:jstart+chunksize].copy())  \n",
    "        f.close()"
   ]
  },
  {
   "cell_type": "code",
   "execution_count": 7,
   "metadata": {},
   "outputs": [],
   "source": [
    "def test_model(preds, in_images, test_files, chunk_size=64, shuffle=True):\n",
    "    \"\"\"Test the model\"\"\"\n",
    "    import tensorflow.compat.v1 as tf\n",
    "    from keras import backend as K\n",
    "    from keras.objectives import binary_crossentropy \n",
    "    import numpy as np\n",
    "    from keras.metrics import categorical_accuracy\n",
    "    \n",
    "    in_labels = tf.placeholder(tf.float32, shape=(None, 2))\n",
    "\n",
    "    n_test_events = count_events(test_files)\n",
    "    chunk_num = int(n_test_events/chunk_size)+1\n",
    "    preds_all = []\n",
    "    label_all = []\n",
    "    \n",
    "    sess = tf.Session()\n",
    "    sess.run(tf.local_variables_initializer())\n",
    "    \n",
    "    is_training = tf.get_default_graph().get_tensor_by_name('import/is_training:0')\n",
    "    n_current_events = 0\n",
    "    for img_chunk, label_chunk, real_chunk_size in chunks(test_files, chunk_size, shuffle=shuffle):\n",
    "        preds_result = sess.run(preds,\n",
    "                                feed_dict={in_images: img_chunk,\n",
    "                                           in_labels: label_chunk,\n",
    "                                           K.learning_phase(): 0,\n",
    "                                           is_training: False})\n",
    "        preds_all.extend(preds_result)\n",
    "        label_all.extend(label_chunk)\n",
    "        n_current_events += real_chunk_size\n",
    "        \n",
    "    return np.asarray(preds_all).reshape(n_test_events,2), np.asarray(label_all).reshape(n_test_events,2)"
   ]
  },
  {
   "cell_type": "code",
   "execution_count": 8,
   "metadata": {},
   "outputs": [
    {
     "name": "stdout",
     "output_type": "stream",
     "text": [
      "[[0.00170123 0.9982988 ]\n",
      " [0.00170123 0.9982988 ]]\n"
     ]
    }
   ],
   "source": [
    "with tf.Session() as sess:\n",
    "    y = sess.run(output_node, feed_dict={input_node: np.zeros((2, 224, 224, 3))})\n",
    "\n",
    "print(y)"
   ]
  },
  {
   "cell_type": "code",
   "execution_count": 9,
   "metadata": {},
   "outputs": [],
   "source": [
    "#Local Data Path\n",
    "#f = tables.open_file('C:/EPEData/rotation_224_v1/test_file_29.h5', 'r')\n",
    "#X = np.array(f.root.img_pt)\n",
    "#y_real = np.array(f.root.label)"
   ]
  },
  {
   "cell_type": "code",
   "execution_count": 10,
   "metadata": {},
   "outputs": [
    {
     "name": "stderr",
     "output_type": "stream",
     "text": [
      "Using TensorFlow backend.\n"
     ]
    }
   ],
   "source": [
    "y_pred, y_real = test_model(output_node, input_node, ['C:/EPEData/rotation_224_v1/test_file_29.h5'])"
   ]
  },
  {
   "cell_type": "markdown",
   "metadata": {},
   "source": [
    "#### Evaluation"
   ]
  },
  {
   "cell_type": "code",
   "execution_count": 11,
   "metadata": {},
   "outputs": [],
   "source": [
    "from sklearn.metrics import roc_curve, auc\n",
    "import matplotlib\n",
    "#matplotlib.use('agg')\n",
    "import matplotlib.pyplot as plt"
   ]
  },
  {
   "cell_type": "code",
   "execution_count": 40,
   "metadata": {},
   "outputs": [],
   "source": [
    "def makeRoc(y_real, y_pred, labels, output_dir=os.curdir):\n",
    "    df = pd.DataFrame()\n",
    "    false_pos_rate = {}\n",
    "    true_pos_rate = {}\n",
    "    area_under_curve = {}\n",
    "    \n",
    "    plt.figure()\n",
    "    for i,label in enumerate(labels):\n",
    "        df[label] = y_real[:,i]\n",
    "        df[label+'_pred'] = y_pred[:,i]\n",
    "        false_pos_rate[label], true_pos_rate[label], threshold = roc_curve(df[label],df[label+'_pred'])\n",
    "        area_under_curve[label] = auc(false_pos_rate[label], true_pos_rate[label])\n",
    "        plt.plot(false_pos_rate[label], true_pos_rate[label], \n",
    "                 color='darkorange', \n",
    "                 lw=2,\n",
    "                 label='%s tagger, AUC = %.1f'%(label, area_under_curve[label]*100.))\n",
    "        plt.plot([0, 1], [0, 1], lw=1, color='navy', linestyle='--')\n",
    "        plt.grid(True)\n",
    "        plt.xlim([-0.05, 1.05])\n",
    "        plt.ylim([0.0, 1.05])\n",
    "        plt.legend(loc='lower right')\n",
    "        plt.xlabel(\"Background Efficiency (FPR)\")\n",
    "        plt.ylabel(\"Signal Efficiency (TPR)\")\n",
    "        plt.savefig('%s/ROC.pdf'%(output_dir))\n",
    "    return plt"
   ]
  },
  {
   "cell_type": "code",
   "execution_count": 42,
   "metadata": {},
   "outputs": [
    {
     "data": {
      "image/png": "[encoded data removed]",
      "text/plain": [
       "<Figure size 432x288 with 1 Axes>"
      ]
     },
     "metadata": {
      "needs_background": "light"
     },
     "output_type": "display_data"
    }
   ],
   "source": [
    "test = makeRoc(y_real, y_pred, ['Top'], 'C:\\\\Users\\\\Alexander\\\\OneDrive\\\\Projects\\\\Deep Learning Model Collections\\\\resnet50')"
   ]
  }
 ],
 "metadata": {
  "kernelspec": {
   "display_name": "Python 3",
   "language": "python",
   "name": "python3"
  },
  "language_info": {
   "codemirror_mode": {
    "name": "ipython",
    "version": 3
   },
   "file_extension": ".py",
   "mimetype": "text/x-python",
   "name": "python",
   "nbconvert_exporter": "python",
   "pygments_lexer": "ipython3",
   "version": "3.7.4"
  }
 },
 "nbformat": 4,
 "nbformat_minor": 2
}
