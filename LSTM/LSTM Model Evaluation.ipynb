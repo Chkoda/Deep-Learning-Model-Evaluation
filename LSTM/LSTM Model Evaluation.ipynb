{
 "cells": [
  {
   "cell_type": "markdown",
   "metadata": {},
   "source": [
    "# LSTM Model Evaluation\n",
    "\n",
    "3/25/2020  \n",
    "by Alexander Chkodrov  \n",
    "\n"
   ]
  },
  {
   "cell_type": "code",
   "execution_count": 1,
   "metadata": {},
   "outputs": [
    {
     "name": "stderr",
     "output_type": "stream",
     "text": [
      "Using TensorFlow backend.\n"
     ]
    }
   ],
   "source": [
    "import keras\n",
    "from keras.models import load_model\n",
    "from keras.models import model_from_json\n",
    "from sklearn.metrics import roc_curve, auc\n",
    "import numpy as np\n",
    "import os\n",
    "import h5py\n",
    "import yaml\n",
    "import pandas as pd\n",
    "import matplotlib.pyplot as plt"
   ]
  },
  {
   "cell_type": "markdown",
   "metadata": {},
   "source": [
    "## Load Model"
   ]
  },
  {
   "cell_type": "code",
   "execution_count": 2,
   "metadata": {},
   "outputs": [
    {
     "name": "stdout",
     "output_type": "stream",
     "text": [
      "Loading configuration from train_config_lstm.yml\n"
     ]
    },
    {
     "data": {
      "text/plain": [
       "{'Inputs': ['j1_ptrel',\n",
       "  'j1_etarot',\n",
       "  'j1_phirot',\n",
       "  'j1_erel',\n",
       "  'j1_deltaR',\n",
       "  'j1_pdgid',\n",
       "  'j_index'],\n",
       " 'Labels': ['j_g', 'j_q', 'j_w', 'j_z', 'j_t', 'j_index'],\n",
       " 'KerasModel': 'lstm_model',\n",
       " 'KerasModelRetrain': 'lstm_model_constraint',\n",
       " 'KerasLoss': 'categorical_crossentropy',\n",
       " 'L1Reg': 0.0001,\n",
       " 'L1RegR': 0.001,\n",
       " 'NormalizeInputs': 1,\n",
       " 'InputType': 'Conv1D',\n",
       " 'MaxParticles': 20}"
      ]
     },
     "execution_count": 2,
     "metadata": {},
     "output_type": "execute_result"
    }
   ],
   "source": [
    "from collections import namedtuple\n",
    "Option = namedtuple(\"MyStruct\", \"inputModel inputFile tree config jsonModel\")\n",
    "\n",
    "options = Option(\n",
    "    inputModel = 'KERAS_lstm_model_weights.h5',\n",
    "    inputFile = '../processed-pythia82-lhc13-all-pt1-50k-r1_h022_e0175_t220_nonu_withPars_truth_0.z',\n",
    "    tree = 't_allpar_new',\n",
    "    config = 'train_config_lstm.yml',\n",
    "    jsonModel = 'KERAS_lstm_model.json'\n",
    ")\n",
    "\n",
    "print(\"Loading configuration from\", options.config)\n",
    "config = open(options.config, 'r')\n",
    "yamlConfig =  yaml.load(config, Loader=yaml.FullLoader)\n",
    "yamlConfig"
   ]
  },
  {
   "cell_type": "code",
   "execution_count": 3,
   "metadata": {},
   "outputs": [
    {
     "name": "stdout",
     "output_type": "stream",
     "text": [
      "Model: \"model_1\"\n",
      "_________________________________________________________________\n",
      "Layer (type)                 Output Shape              Param #   \n",
      "=================================================================\n",
      "input_1 (InputLayer)         (None, 20, 6)             0         \n",
      "_________________________________________________________________\n",
      "lstm_lstm (LSTM)             (None, 20, 16)            1472      \n",
      "_________________________________________________________________\n",
      "flatten_1 (Flatten)          (None, 320)               0         \n",
      "_________________________________________________________________\n",
      "rnn_densef (Dense)           (None, 5)                 1605      \n",
      "=================================================================\n",
      "Total params: 3,077\n",
      "Trainable params: 3,077\n",
      "Non-trainable params: 0\n",
      "_________________________________________________________________\n"
     ]
    }
   ],
   "source": [
    "json_file = open(options.jsonModel, 'r')\n",
    "model = model_from_json(json_file.read())\n",
    "json_file.close()\n",
    "\n",
    "model.load_weights(options.inputModel)\n",
    "model.summary()"
   ]
  },
  {
   "cell_type": "markdown",
   "metadata": {},
   "source": [
    "## Load Test Data"
   ]
  },
  {
   "cell_type": "markdown",
   "metadata": {},
   "source": [
    "Input type conv1d; train.py method includes conv1d transformation in get_features method"
   ]
  },
  {
   "cell_type": "code",
   "execution_count": 32,
   "metadata": {},
   "outputs": [],
   "source": [
    "def get_features(options, yamlConfig, test_size):\n",
    "    from sklearn.model_selection import train_test_split\n",
    "    from sklearn.preprocessing import StandardScaler\n",
    "\n",
    "    # To use one data file:\n",
    "    h5File = h5py.File(options.inputFile, 'r')\n",
    "    treeArray = h5File[options.tree][()]\n",
    "\n",
    "    print(treeArray.shape)\n",
    "    #print(treeArray.dtype.names)\n",
    "    \n",
    "    # List of features to use\n",
    "    features = yamlConfig['Inputs']\n",
    "    \n",
    "    # List of labels to use\n",
    "    labels = yamlConfig['Labels']\n",
    "\n",
    "    # Convert to dataframe\n",
    "    features_labels_df = pd.DataFrame(treeArray,columns=list(set(features+labels)))\n",
    "    features_labels_df = features_labels_df.drop_duplicates()\n",
    "\n",
    "    features_df = features_labels_df[features]\n",
    "    labels_df = features_labels_df[labels]\n",
    "    \n",
    "    print(features_df.head())\n",
    "    print(labels_df.head())\n",
    "    \n",
    "    if 'Conv' in yamlConfig['InputType']:\n",
    "        labels_df = labels_df.drop_duplicates()\n",
    "        \n",
    "    # Convert to numpy array \n",
    "    features_val = features_df.values\n",
    "    labels_val = labels_df.values     \n",
    "\n",
    "    if 'j_index' in features:\n",
    "        features_val = features_val[:,:-1] # drop the j_index feature\n",
    "    if 'j_index' in labels:\n",
    "        labels_val = labels_val[:,:-1] # drop the j_index label\n",
    "        print(labels_val.shape)\n",
    "\n",
    "    if yamlConfig['InputType']=='Conv1D':\n",
    "        features_2dval = np.zeros((len(labels_df), yamlConfig['MaxParticles'], len(features)-1))\n",
    "        for i in range(0, len(labels_df)):\n",
    "            features_df_i = features_df[features_df['j_index']==labels_df['j_index'].iloc[i]]\n",
    "            index_values = features_df_i.index.values\n",
    "            #features_val_i = features_val[index_values[0]:index_values[-1]+1,:-1] # drop the last feature j_index\n",
    "            features_val_i = features_val[np.array(index_values),:]\n",
    "            nParticles = len(features_val_i)\n",
    "            #print(\"before\", features_val_i[:,0])\n",
    "            features_val_i = features_val_i[features_val_i[:,0].argsort()[::-1]] # sort descending by first value (ptrel, usually)\n",
    "            #print(\"after\", features_val_i[:,0])\n",
    "            if nParticles>yamlConfig['MaxParticles']:\n",
    "                features_val_i =  features_val_i[0:yamlConfig['MaxParticles'],:]\n",
    "            else:        \n",
    "                features_val_i = np.concatenate([features_val_i, np.zeros((yamlConfig['MaxParticles']-nParticles, len(features)-1))])\n",
    "            features_2dval[i, :, :] = features_val_i\n",
    "\n",
    "        features_val = features_2dval\n",
    "\n",
    "    X_train_val, X_test, y_train_val, y_test = train_test_split(features_val, labels_val, test_size=test_size, random_state=42)\n",
    "    \n",
    "    #Normalize conv inputs\n",
    "    if yamlConfig['NormalizeInputs'] and yamlConfig['InputType']=='Conv1D':\n",
    "        reshape_X_train_val = X_train_val.reshape(X_train_val.shape[0]*X_train_val.shape[1],X_train_val.shape[2])\n",
    "        scaler = StandardScaler().fit(reshape_X_train_val)\n",
    "        for p in range(X_train_val.shape[1]):\n",
    "            X_train_val[:,p,:] = scaler.transform(X_train_val[:,p,:])\n",
    "            X_test[:,p,:] = scaler.transform(X_test[:,p,:])    \n",
    "\n",
    "    if 'j_index' in labels:\n",
    "        labels = labels[:-1]\n",
    "\n",
    "    return X_train_val, X_test, y_train_val, y_test, labels"
   ]
  },
  {
   "cell_type": "code",
   "execution_count": 33,
   "metadata": {},
   "outputs": [
    {
     "name": "stdout",
     "output_type": "stream",
     "text": [
      "(5131613,)\n",
      "   j1_ptrel  j1_etarot  j1_phirot   j1_erel  j1_deltaR  j1_pdgid  j_index\n",
      "0  0.386118   0.000000   0.000000  0.382772   0.011056     130.0   101333\n",
      "1  0.107734  -0.009859   0.007236  0.105703   0.023104     211.0   101333\n",
      "2  0.094731   0.004508  -0.002759  0.094339   0.006306     321.0   101333\n",
      "3  0.042086   0.028567  -0.014909  0.042913   0.022473     211.0   101333\n",
      "4  0.039412  -0.018020  -0.003745  0.038547   0.025492    -211.0   101333\n",
      "   j_g  j_q  j_w  j_z  j_t  j_index\n",
      "0    1    0    0    0    0   101333\n",
      "1    1    0    0    0    0   101333\n",
      "2    1    0    0    0    0   101333\n",
      "3    1    0    0    0    0   101333\n",
      "4    1    0    0    0    0   101333\n",
      "(98769, 5)\n"
     ]
    }
   ],
   "source": [
    "X_train_val, X_test, y_train_val, y_test, labels  = get_features(options, yamlConfig, test_size=0.99)"
   ]
  },
  {
   "cell_type": "code",
   "execution_count": 34,
   "metadata": {},
   "outputs": [
    {
     "data": {
      "text/plain": [
       "(97782, 20, 6)"
      ]
     },
     "execution_count": 34,
     "metadata": {},
     "output_type": "execute_result"
    }
   ],
   "source": [
    "X_test.shape #99% of dataset is retained as training set"
   ]
  },
  {
   "cell_type": "code",
   "execution_count": 35,
   "metadata": {},
   "outputs": [
    {
     "data": {
      "text/plain": [
       "(97782, 5)"
      ]
     },
     "execution_count": 35,
     "metadata": {},
     "output_type": "execute_result"
    }
   ],
   "source": [
    "y_test.shape"
   ]
  },
  {
   "cell_type": "markdown",
   "metadata": {},
   "source": [
    "## Run Inference & Evaluate"
   ]
  },
  {
   "cell_type": "code",
   "execution_count": 36,
   "metadata": {},
   "outputs": [],
   "source": [
    "def makeRoc(features_val, labels, labels_val, model, outputDir):\n",
    "    if 'j_index' in labels: labels.remove('j_index')\n",
    "    predict_test = model.predict(features_val)\n",
    "    df = pd.DataFrame()\n",
    "    fpr = {}\n",
    "    tpr = {}\n",
    "    auc1 = {}\n",
    "    plt.figure()       \n",
    "    for i, label in enumerate(labels):\n",
    "        df[label] = labels_val[:,i]\n",
    "        df[label + '_pred'] = predict_test[:,i]\n",
    "        fpr[label], tpr[label], threshold = roc_curve(df[label],df[label+'_pred'])\n",
    "        auc1[label] = auc(fpr[label], tpr[label])\n",
    "        plt.plot(tpr[label],fpr[label],label='%s tagger, AUC = %.1f%%'%(label.replace('j_',''),auc1[label]*100.))\n",
    "    plt.plot([0, 1], [0, 1], lw=1, color='navy', linestyle='--')\n",
    "    plt.semilogy()\n",
    "    plt.xlabel(\"Signal Efficiency\")\n",
    "    plt.ylabel(\"Background Efficiency\")\n",
    "    plt.xlim([-0.05, 1.05])\n",
    "    plt.ylim(0.001,1.05)\n",
    "    plt.grid(True)\n",
    "    plt.legend(loc='lower right')\n",
    "    plt.figtext(0.25, 0.90,'LSTM ROC Curve',fontweight='bold', wrap=True, horizontalalignment='right', fontsize=14)\n",
    "    #plt.figtext(0.35, 0.90,'preliminary', style='italic', wrap=True, horizontalalignment='center', fontsize=14) \n",
    "    plt.savefig('%s/ROC.pdf'%(outputDir))\n",
    "    return predict_test"
   ]
  },
  {
   "cell_type": "code",
   "execution_count": 37,
   "metadata": {
    "scrolled": true
   },
   "outputs": [
    {
     "data": {
      "image/png": "[encoded data removed]",
      "text/plain": [
       "<Figure size 432x288 with 1 Axes>"
      ]
     },
     "metadata": {
      "needs_background": "light"
     },
     "output_type": "display_data"
    }
   ],
   "source": [
    "y_pred = makeRoc(X_test, labels, y_test, model, os.curdir)"
   ]
  }
 ],
 "metadata": {
  "kernelspec": {
   "display_name": "Python 3",
   "language": "python",
   "name": "python3"
  },
  "language_info": {
   "codemirror_mode": {
    "name": "ipython",
    "version": 3
   },
   "file_extension": ".py",
   "mimetype": "text/x-python",
   "name": "python",
   "nbconvert_exporter": "python",
   "pygments_lexer": "ipython3",
   "version": "3.7.4"
  }
 },
 "nbformat": 4,
 "nbformat_minor": 2
}
